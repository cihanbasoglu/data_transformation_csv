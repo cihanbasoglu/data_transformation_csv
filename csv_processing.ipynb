{
 "cells": [
  {
   "cell_type": "code",
   "execution_count": null,
   "metadata": {},
   "outputs": [],
   "source": [
    "import pandas as pd"
   ]
  },
  {
   "cell_type": "code",
   "execution_count": null,
   "metadata": {},
   "outputs": [],
   "source": [
    "# change the file paths\n",
    "#Rating Google Play\n",
    "file_path = '/xxx.csv'\n",
    "#Crashes Google Play\n",
    "file_path2 = '/xxx.csv'\n",
    "#Uninstalls Google Play\n",
    "file_path3 = '/xxx.csv'\n",
    "#Installs AppsFlyer\n",
    "file_path4 = '/xxx.csv'\n",
    "#IAP US BigQuery\n",
    "file_path5 = '/xxx.csv'\n",
    "#IAP non-USA BigQuery\n",
    "file_path6 = '/xxx.csv'\n",
    "#Sessions non-USA BigQuery\n",
    "file_path7 = '/xxx.csv'\n",
    "#Sessions USA BigQuery\n",
    "file_path8 = '/xxx.csv'\n"
   ]
  },
  {
   "cell_type": "code",
   "execution_count": null,
   "metadata": {},
   "outputs": [],
   "source": [
    "with open(file_path, encoding=\"utf16\", errors='ignore') as file:\n",
    "    df = pd.read_csv(file)\n",
    "\n",
    "df.head()"
   ]
  },
  {
   "cell_type": "code",
   "execution_count": null,
   "metadata": {},
   "outputs": [],
   "source": [
    "df['Daily Average Rating'] = df['Daily Average Rating'].mask(df['Daily Average Rating'] == 0, pd.NA)\n",
    "\n",
    "df['Country'] = df['Country'].replace('United States', 'US')\n",
    "\n",
    "df['Country Category'] = df['Country'].apply(lambda x: 'US' if x == 'US' else 'non-USA')\n",
    "\n",
    "result_df = df.groupby(['Date', 'Country Category'], as_index=False)['Daily Average Rating'].mean()\n",
    "\n",
    "# Pivot table\n",
    "df1 = pd.pivot_table(result_df, values='Daily Average Rating', index='Date',\n",
    "                       columns=['Country Category'], aggfunc=\"mean\")\n",
    "\n",
    "print(df1)"
   ]
  },
  {
   "cell_type": "code",
   "execution_count": null,
   "metadata": {},
   "outputs": [],
   "source": [
    "with open(file_path2, encoding=\"utf16\", errors='ignore') as file:\n",
    "    df2 = pd.read_csv(file)\n",
    "\n",
    "df2.head()"
   ]
  },
  {
   "cell_type": "code",
   "execution_count": null,
   "metadata": {},
   "outputs": [],
   "source": [
    "df2.set_index(['Date'])"
   ]
  },
  {
   "cell_type": "code",
   "execution_count": null,
   "metadata": {},
   "outputs": [],
   "source": [
    "df2[['Daily Crashes', 'Daily ANRs']] /= 2\n",
    "df2 = df2.rename(columns={\"Daily Crashes\": \"Daily Crashes US\", \"Daily ANRs\": \"Daily ANRs US\"})"
   ]
  },
  {
   "cell_type": "code",
   "execution_count": null,
   "metadata": {},
   "outputs": [],
   "source": [
    "df2.head()"
   ]
  },
  {
   "cell_type": "code",
   "execution_count": null,
   "metadata": {},
   "outputs": [],
   "source": [
    "df2['Daily Crashes non-USA'] = df2.loc[:, 'Daily Crashes US']\n",
    "df2['Daily ANRs non-USA'] = df2.loc[:, 'Daily ANRs US']\n",
    "df2.drop(['Package Name'], axis=1, inplace=True)"
   ]
  },
  {
   "cell_type": "code",
   "execution_count": null,
   "metadata": {},
   "outputs": [],
   "source": [
    "df2.head()"
   ]
  },
  {
   "cell_type": "code",
   "execution_count": null,
   "metadata": {},
   "outputs": [],
   "source": [
    "df_merged2 = pd.merge(df1, df2, on='Date')\n",
    "\n",
    "df_merged2 = df_merged2.dropna()\n",
    "\n",
    "df_merged2 = df_merged2.rename(columns={\"US\": \"Daily Rating US\", \"non-USA\": \"Daily Rating non-USA\"})\n",
    "\n",
    "df_merged2"
   ]
  },
  {
   "cell_type": "code",
   "execution_count": null,
   "metadata": {},
   "outputs": [],
   "source": [
    "with open(file_path3, encoding=\"utf16\", errors='ignore') as file:\n",
    "    df3 = pd.read_csv(file)\n",
    "\n",
    "df3.head()"
   ]
  },
  {
   "cell_type": "code",
   "execution_count": null,
   "metadata": {},
   "outputs": [],
   "source": [
    "df3['Daily User Uninstalls'] = df3['Daily User Uninstalls'].mask(df3['Daily User Uninstalls'] == 0, pd.NA)\n",
    "\n",
    "df3['Country'] = df3['Country'].replace('United States', 'US')\n",
    "\n",
    "df3['Country Category'] = df3['Country'].apply(lambda x: 'Uninstalls US' if x == 'US' else 'Uninstalls non-USA')\n",
    "\n",
    "result_df3 = df3.groupby(['Date', 'Country Category'], as_index=False)['Daily User Uninstalls'].sum()\n",
    "\n",
    "# Pivot table\n",
    "df3 = pd.pivot_table(result_df3, values='Daily User Uninstalls', index='Date',\n",
    "                       columns=['Country Category'], aggfunc=\"sum\")\n",
    "\n",
    "print(df3)"
   ]
  },
  {
   "cell_type": "code",
   "execution_count": null,
   "metadata": {},
   "outputs": [],
   "source": [
    "df_merged3 = pd.merge(df_merged2, df3, on='Date')\n",
    "\n",
    "df_merged3 = df_merged3.dropna()\n",
    "\n",
    "df_merged3"
   ]
  },
  {
   "cell_type": "code",
   "execution_count": null,
   "metadata": {},
   "outputs": [],
   "source": [
    "with open(file_path4, encoding=\"utf8\", errors='ignore') as file:\n",
    "    df4 = pd.read_csv(file)"
   ]
  },
  {
   "cell_type": "code",
   "execution_count": null,
   "metadata": {},
   "outputs": [],
   "source": [
    "df4['Installs'] = df4['Installs'].replace(',', '', regex=True).astype(float)\n",
    "df4"
   ]
  },
  {
   "cell_type": "code",
   "execution_count": null,
   "metadata": {},
   "outputs": [],
   "source": [
    "df4['Geo'] = df4['Geo'].replace('United States (US)', 'US')\n",
    "\n",
    "df4['Country Category'] = df4['Geo'].apply(lambda x: 'Installs US' if x == 'US' else 'Installs non-USA')\n",
    "\n",
    "result_df4 = df4.groupby(['Date', 'Country Category'], as_index=False)['Installs'].sum()\n",
    "\n",
    "# Pivot table\n",
    "df4 = pd.pivot_table(result_df4, values='Installs', index='Date',\n",
    "                       columns=['Country Category'], aggfunc=\"sum\")\n",
    "\n",
    "print(df4)"
   ]
  },
  {
   "cell_type": "code",
   "execution_count": null,
   "metadata": {},
   "outputs": [],
   "source": [
    "df_merged4 = pd.merge(df_merged3, df4, how='right', on='Date')\n",
    "df_merged4"
   ]
  },
  {
   "cell_type": "code",
   "execution_count": null,
   "metadata": {},
   "outputs": [],
   "source": [
    "with open(file_path5, encoding=\"utf8\", errors='ignore') as file:\n",
    "    df5 = pd.read_csv(file)\n",
    "\n",
    "# comment out the code below if you selected the columns as self-explanatory already\n",
    "df5.rename(columns={'f0_': 'IAP US', 'dt': 'Date'}, inplace=True)\n",
    "df5"
   ]
  },
  {
   "cell_type": "code",
   "execution_count": null,
   "metadata": {},
   "outputs": [],
   "source": [
    "with open(file_path6, encoding=\"utf8\", errors='ignore') as file:\n",
    "    df6 = pd.read_csv(file)\n",
    "\n",
    "df6.rename(columns={'f0_': 'IAP non-USA', 'dt': 'Date'}, inplace=True)\n",
    "df6"
   ]
  },
  {
   "cell_type": "code",
   "execution_count": null,
   "metadata": {},
   "outputs": [],
   "source": [
    "df_merged5 = pd.merge(df5, df6, on='Date')\n",
    "df_merged5"
   ]
  },
  {
   "cell_type": "code",
   "execution_count": null,
   "metadata": {},
   "outputs": [],
   "source": [
    "df_merged6 = pd.merge(df_merged5, df_merged4, how = 'right', on='Date')\n",
    "df_merged6"
   ]
  },
  {
   "cell_type": "code",
   "execution_count": null,
   "metadata": {},
   "outputs": [],
   "source": [
    "with open(file_path7, encoding=\"utf8\", errors='ignore') as file:\n",
    "    df7= pd.read_csv(file)\n",
    "\n",
    "with open(file_path8, encoding=\"utf8\", errors='ignore') as file:\n",
    "    df8 = pd.read_csv(file)"
   ]
  },
  {
   "cell_type": "code",
   "execution_count": null,
   "metadata": {},
   "outputs": [],
   "source": [
    "df_merged7 = pd.merge(df7, df8, on='Date')\n",
    "df_merged7"
   ]
  },
  {
   "cell_type": "code",
   "execution_count": null,
   "metadata": {},
   "outputs": [],
   "source": [
    "df_merged8 = pd.merge(df_merged6, df_merged7, how = 'right', on='Date')\n",
    "df_merged8"
   ]
  },
  {
   "cell_type": "code",
   "execution_count": null,
   "metadata": {},
   "outputs": [],
   "source": [
    "df_merged8['Crash Rate US'] = (df_merged8['Daily Crashes US'] / df_merged8['Sessions_USA']) * 100\n",
    "df_merged8['Crash Rate non-USA'] = (df_merged8['Daily Crashes non-USA'] / df_merged8['Sessions_nonUSA']) * 100\n",
    "df_merged8['ANR Rate US'] = (df_merged8['Daily ANRs US'] / df_merged8['Sessions_USA']) * 100\n",
    "df_merged8['ANR Rate non-USA'] = (df_merged8['Daily ANRs non-USA'] / df_merged8['Sessions_nonUSA']) * 100\n",
    "\n",
    "\n",
    "df_merged8"
   ]
  }
 ],
 "metadata": {
  "kernelspec": {
   "display_name": "myenv",
   "language": "python",
   "name": "python3"
  },
  "language_info": {
   "codemirror_mode": {
    "name": "ipython",
    "version": 3
   },
   "file_extension": ".py",
   "mimetype": "text/x-python",
   "name": "python",
   "nbconvert_exporter": "python",
   "pygments_lexer": "ipython3",
   "version": "3.8.2"
  }
 },
 "nbformat": 4,
 "nbformat_minor": 2
}
